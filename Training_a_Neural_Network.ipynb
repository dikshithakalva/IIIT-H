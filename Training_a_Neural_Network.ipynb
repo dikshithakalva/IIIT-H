{
  "nbformat": 4,
  "nbformat_minor": 0,
  "metadata": {
    "colab": {
      "provenance": [],
      "authorship_tag": "ABX9TyO98qbWfav0W5mF312Xd5Qf",
      "include_colab_link": true
    },
    "kernelspec": {
      "name": "python3",
      "display_name": "Python 3"
    },
    "language_info": {
      "name": "python"
    }
  },
  "cells": [
    {
      "cell_type": "markdown",
      "metadata": {
        "id": "view-in-github",
        "colab_type": "text"
      },
      "source": [
        "<a href=\"https://colab.research.google.com/github/dikshithakalva/IIIT-H/blob/main/Training_a_Neural_Network.ipynb\" target=\"_parent\"><img src=\"https://colab.research.google.com/assets/colab-badge.svg\" alt=\"Open In Colab\"/></a>"
      ]
    },
    {
      "cell_type": "markdown",
      "source": [
        "## Neural Network\n",
        "A neural network is a computational model inspired by the way biological neural networks in the human brain function. It is a key component of machine learning, specifically deep learning, and is used for tasks such as pattern recognition, classification, regression, and more.Neural networks have shown remarkable success in tasks such as image recognition, natural language processing, speech recognition, and more, making them a central component of modern machine learning and artificial intelligence applications.\n",
        "\n"
      ],
      "metadata": {
        "id": "_oNYBXLXu9XP"
      }
    },
    {
      "cell_type": "markdown",
      "source": [
        "![image.png](data:image/png;base64,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)"
      ],
      "metadata": {
        "id": "IuUbX-3Cv0TF"
      }
    },
    {
      "cell_type": "markdown",
      "source": [
        "![](https://miro.medium.com/v2/resize:fit:640/format:webp/0*aWIO7eB6E4-cIkK9.gif)"
      ],
      "metadata": {
        "id": "gk9I0E-73W1R"
      }
    },
    {
      "cell_type": "markdown",
      "source": [
        "# Breaking Down The Neural Network!\n",
        "\n",
        "\n",
        "### 1. Data\n",
        "  The type of data a neural network processes varies drastically based on the problem being solved. When we build a neural network, we define what shape and kind of data it can accept. It may sometimes be neccessary to modify our dataset so that it can be passed to our neural network.\n",
        "\n",
        "### 2. Layers\n",
        "  As we mentioned earlier each neural network consists of multiple layers. At each layer a different transformation of data occurs. Our initial input data is fed through the layers and eventually arrives at the output layer where we will obtain the result.\n",
        "\n",
        "  * Input Layer:\n",
        "  The input layer is the layer that our initial data is passed to. It is the first layer in our neural network.\n",
        "\n",
        "  * Output Layer:\n",
        "  The output layer is the layer that we will retrive our results from. Once the data has passed through all other layers it will arrive here.\n",
        "\n",
        "  * Hidden Layer(s):\n",
        "  All the other layers in our neural network are called \"hidden layers\". This is because they are hidden to us, we cannot observe them. Most neural networks consist of at least one hidden layer but can have an unlimited amount. Typically, the more complex the model the more hidden layers.\n",
        "\n",
        "![](https://miro.medium.com/v2/resize:fit:640/format:webp/0*BSxP3AHxBe_IevHC.png)\n",
        "\n",
        "### 3. Neurons\n",
        "\n",
        "Each layer is made up of what are called neurons. For example, say we want to pass an image that is 28x28 pixels, thats 784 pixels. We would need 784 neurons in our input layer to capture each of these pixels.\n",
        "\n",
        "### 4. Weights\n",
        "  Weights are associated with each connection in our neural network. Every pair of connected nodes will have one weight that denotes the strength of the connection between them. The model will try to determine what these weights should be to achieve the best result. Weights start out at a constant or random value and will change as the network sees training data.\n",
        "\n",
        "### 5. Biases\n",
        "\n",
        "  A bias is simply a constant value associated with each layer. It can be thought of as an extra neuron that has no connections. The purpose of a bias is to shift an entire activation function by a constant value. This allows a lot more flexibllity when it comes to choosing an activation and training the network. There is one bias for each layer.\n",
        "\n",
        "![](https://miro.medium.com/v2/resize:fit:960/1*0lejoYyyQWjYzEP_BNW2nw.jpeg)\n",
        "\n",
        "### 6. Activation Function\n",
        "\n",
        "Activation functions are simply a function that is applied to the weighed sum of a neuron. They can be anything we want but are typically higher order/degree functions that aim to add a higher dimension to our data. We would want to do this to introduce more complexity to our model.\n",
        "\n",
        "\n",
        "A list of some common activation functions and their graphs can be seen below:\n",
        "\n",
        "* #### Sigmoid function:\n",
        "\n",
        "  Transform $ (- \\infty $ to $ \\infty) $ into (0 to 1) range\n",
        "  $$\n",
        "  sigmoid(x) = \\frac{1}{1 + e^{-x}}\n",
        "  $$\n",
        "\n",
        "* #### Tanh function:\n",
        "\n",
        "  Similar to sigmoid, difference being that output is -1 to +1\n",
        "\n",
        "\n",
        "$$\n",
        "tanh(x) = \\frac{e^x - e^{-x}}{e^x + e^{-x}}\n",
        "$$\n",
        "\n",
        "  \n",
        "\n",
        "* #### ReLU\n",
        "\n",
        "  $$\n",
        "  f(x) = \\begin{cases} %\n",
        "                      0 & if \\; x<0 \\\\\n",
        "                      x &  if \\;x \\geq 0.\n",
        "                  \\end{cases}\n",
        "  $$\n",
        "\n",
        "![](https://www.researchgate.net/publication/327435257/figure/fig4/AS:742898131812354@1554132125449/Activation-Functions-ReLU-Tanh-Sigmoid.ppm)\n",
        "\n",
        "There are several other loss functions, each with its own specific use cases and characteristics, you can explore those at your own pace."
      ],
      "metadata": {
        "id": "EmP0eb3jwQ3B"
      }
    },
    {
      "cell_type": "markdown",
      "source": [
        "\n",
        "## How it Works\n",
        "\n",
        "A neural network consists of many Nodes (Neurons) in many layers. Each layer can have any number of nodes and a neural network can have any number of layers.\n",
        "\n",
        "\n",
        "![](https://miro.medium.com/v2/resize:fit:720/format:webp/1*SaQMHTLi4C7MIA4IzjAXJw.png)\n",
        "\n",
        "\n",
        "\n",
        "\n",
        "\n",
        "\n",
        "\\begin{equation}\n",
        "Y =(\\sum_{i=0}^n w_i x_i) + b\n",
        "\\end{equation}\n",
        "\n",
        " * w: stands for the weight of each connection to the neuron\n",
        "\n",
        " * x: stands for the value of the connected neuron from the previous value\n",
        "\n",
        " * b: stands for the bias at each layer, this is a constant\n",
        "\n",
        " * n: is the number of connections\n",
        "\n",
        " * Y: is the output of the current neuron\n",
        "\n",
        "\n",
        " The equation is called a weighed sum. The weighted sum at each and every neuron as we pass information through the network. Then add what's called a bias to this sum. The bias allows to shift the network up or down by a constant value. It is like the y-intercept of a line.\n",
        "\n",
        "\n",
        " But that equation is the not complete one! We forgot a crucial part, the **activation function**. The new equation with the addition of an activation function\n",
        " is seen below.\n",
        "\n",
        "\\begin{equation}\n",
        " Y =F((\\sum_{i=0}^n w_i x_i) + b)\n",
        "\\end{equation}"
      ],
      "metadata": {
        "id": "qoW-aPIwx9N1"
      }
    },
    {
      "cell_type": "markdown",
      "source": [
        "#### Every Neural Network has 2 main parts:\n",
        "\n",
        "* Forward Propagation.\n",
        "* Backward Propagation.\n",
        "\n",
        "![](https://www.researchgate.net/publication/327637282/figure/fig1/AS:670566579175436@1536886939536/A-simple-neural-network-with-two-hidden-layers-of-two-nodes-each-four-inputs-and-a.ppm)\n",
        "\n",
        "# Forward Propogation.\n",
        "\n",
        "* Forward propagation is the process in which input data is processed through the neural network's layers to produce an output.\n",
        "\n",
        "* It involves passing the input data through each layer of the neural network, applying the layer's weights and activation functions, until the final output is obtained.\n",
        "\n",
        "# Backpropagation\n",
        "Backpropagation is the fundemental algorithm behind training neural networks. It is what changes the weights and biases of our network. To fully explain this process, we need to learn something called a cost/loss function.\n",
        "\n",
        "# Loss/Cost Function\n",
        "\n",
        "For our training data we have the features (input) and the labels (expected output), because of this we can compare the output from our network to the expected output. Based on the difference between these values we can determine if our network has done a good job or poor job. If the network has done a good job, we'll make minor changes to the weights and biases. If it has done a poor job our changes may be more drastic.\n",
        "\n",
        "Some common loss/cost functions include.\n",
        "\n",
        "* Mean Squared Error\n",
        "\\begin{equation}\n",
        "y = \\sum_{i=1}^{D}(x_i-y_i)^2\n",
        "\\end{equation}\n",
        "\n",
        "\n",
        "* Mean Absolute Error\n",
        "\\begin{equation}y = \\sum_{i=1}^{D}|x_i-y_i|\n",
        "\\end{equation}\n",
        "* Hinge Loss\n",
        "\\begin{equation}\n",
        "y = max(0, 1 - y \\cdot \\hat{y})\n",
        "\\end{equation}\n",
        "\n",
        "Where 'D' represents the number of samples in the dataset.\n",
        "\n",
        "# Optimizer\n",
        "Optimization function is simply the function that implements the backpropagation algorithm described above. Here's a list of a few common ones.\n",
        "\n",
        "* Gradient Descent\n",
        "* Stochastic Gradient Descent\n",
        "* Mini-Batch Gradient Descent\n",
        "* Momentum\n",
        "* Nesterov Accelerated Gradient\n",
        "\n",
        "![](https://i.pinimg.com/originals/6f/d6/22/6fd62253592b42795c48dc570a17579c.gif)\n",
        "\n",
        "During backpropagation calculate the total error at the output nodes and propagate these errors back through the network using Backpropagation to calculate the gradients. Thenuse an optimization method such as Gradient Descent to adjust all weights in the network with an aim of reducing the error at the output layer."
      ],
      "metadata": {
        "id": "UXTu3MUoyWZ9"
      }
    },
    {
      "cell_type": "markdown",
      "source": [
        "## Building Neural Network"
      ],
      "metadata": {
        "id": "4jCSL7z1ys3G"
      }
    },
    {
      "cell_type": "code",
      "execution_count": null,
      "metadata": {
        "id": "1bvMBRtCu8YO"
      },
      "outputs": [],
      "source": [
        "import numpy as np\n",
        "import matplotlib.pyplot as plt\n",
        "from sklearn.datasets import load_iris\n",
        "import random"
      ]
    },
    {
      "cell_type": "code",
      "source": [
        "# load the dataset\n",
        "\n",
        "iris = load_iris()\n",
        "data, labels = iris.data[:,0:2], iris.data[:,2]\n",
        "\n",
        "num_samples = len(labels)  # size of our dataset\n",
        "\n",
        "# shuffle the dataset\n",
        "shuffle_order = np.random.permutation(num_samples)\n",
        "data = data[shuffle_order, :]\n",
        "labels = labels[shuffle_order]"
      ],
      "metadata": {
        "id": "bo_l14sey-DK"
      },
      "execution_count": null,
      "outputs": []
    },
    {
      "cell_type": "markdown",
      "source": [
        "Like the 1-dimensional problem previously,doing linear regression, except now we have two variables and therefore two weights as well. Let's denote the input variables as x1 and x2 and instead of using m as the coefficient variable, let's use w1 and w2. So for linear regression, the following function:\n",
        "\n",
        "$$\n",
        "f(X) = w_1 x_1 + w_2 x_2 + b\n",
        "$$\n",
        "\n",
        "\n",
        "For example, suppose set w = [0.2, 0.6] and b = -0.3. Let's calculate the resulting . Program this as a function called \"weighted_sum\"."
      ],
      "metadata": {
        "id": "giwyE-wrzDYe"
      }
    },
    {
      "cell_type": "code",
      "source": [
        "def weighted_sum(x, w, b):\n",
        "    return b + np.dot(w, x)\n",
        "\n",
        "# set our paramters - weights and bias\n",
        "w = [0.2, 0.6]\n",
        "b = -0.3\n",
        "\n",
        "# for example, let's use the first data point\n",
        "X, y = data, labels\n",
        "\n",
        "pred_y = [weighted_sum(x, w, b) for x in X]\n",
        "\n",
        "# let's print out the first prediction\n",
        "print(\"for x=[%0.2f, %0.2f], predicted = %0.2f, actual = %0.2f\" % (X[0][0], X[0][1], pred_y[0], y[0]))"
      ],
      "metadata": {
        "colab": {
          "base_uri": "https://localhost:8080/"
        },
        "id": "VwIM9A8AzSW2",
        "outputId": "7f220e37-d7f1-4706-f53e-c0d758dd5fd6"
      },
      "execution_count": null,
      "outputs": [
        {
          "output_type": "stream",
          "name": "stdout",
          "text": [
            "for x=[5.00, 3.30], predicted = 2.68, actual = 1.40\n"
          ]
        }
      ]
    },
    {
      "cell_type": "markdown",
      "source": [
        " Evaluate the quality of our predictions using cost/loss functions. Lets use the sum-squared error function"
      ],
      "metadata": {
        "id": "qePhgcInzZfn"
      }
    },
    {
      "cell_type": "code",
      "source": [
        "# sum squared error\n",
        "def cost_function(y_pred, y_actual):\n",
        "    return 0.5 * np.sum((y_actual-y_pred)**2)\n",
        "\n",
        "error = cost_function(pred_y, y)\n",
        "print(error)"
      ],
      "metadata": {
        "colab": {
          "base_uri": "https://localhost:8080/"
        },
        "id": "pK05Z3p4zUUQ",
        "outputId": "59c1f498-571f-43e3-8987-4936984d520b"
      },
      "execution_count": null,
      "outputs": [
        {
          "output_type": "stream",
          "name": "stdout",
          "text": [
            "313.50559999999996\n"
          ]
        }
      ]
    },
    {
      "cell_type": "code",
      "source": [
        "# normalizing the data\n",
        "X = X / np.amax(X, axis=0)\n",
        "y = y / np.amax(y, axis=0)\n",
        "\n",
        "# randomly initializing w, b\n",
        "w, b = [random.random(), random.random()], random.random()\n",
        "\n",
        "# our function w*x + b\n",
        "def F(X, w, b):\n",
        "    return np.sum(w*X, axis=1) + b\n",
        "\n",
        "# calculating error using cost function(Here we use Mean Squared Error)\n",
        "y_pred = F(X, w, b)\n",
        "init_cost = cost_function(y_pred, y)\n",
        "\n",
        "print(\"initial parameters: w1=%0.3f, w2=%0.3f, b=%0.3f\"%(w[0], w[1], b))\n",
        "print(\"initial cost = %0.3f\" % init_cost)"
      ],
      "metadata": {
        "colab": {
          "base_uri": "https://localhost:8080/"
        },
        "id": "Xa0MRzZ7zYkw",
        "outputId": "9702e8ae-82be-48cc-e4d3-cfa1c0747fbf"
      },
      "execution_count": null,
      "outputs": [
        {
          "output_type": "stream",
          "name": "stdout",
          "text": [
            "initial parameters: w1=0.885, w2=0.203, b=0.682\n",
            "initial cost = 68.060\n"
          ]
        }
      ]
    },
    {
      "cell_type": "markdown",
      "source": [
        "Now the partial derivatives are:\n",
        "\n",
        "$$\n",
        "\\frac{\\partial J}{\\partial w_1} = - \\sum{x_1^i \\cdot (y^i - (w_1 x_1^i + w_2 x_2^i+ b))}\n",
        "$$\n",
        "\n",
        "$$\n",
        "\\frac{\\partial J}{\\partial w_2} = - \\sum{x_2^i \\cdot (y^i - (w_1 x_1^i + w_2 x_2^i+ b))}\n",
        "$$\n",
        "\n",
        "$$\n",
        "\\frac{\\partial J}{\\partial b} = - \\sum{y^i - (w_1 x_1^i + w_2 x_2^i+ b)}\n",
        "$$"
      ],
      "metadata": {
        "id": "COMaLH9FzpcZ"
      }
    },
    {
      "cell_type": "code",
      "source": [
        "# implement partial derivatives of our parameters\n",
        "\n",
        "def dJdw1(X, y, w, b):\n",
        "    return -np.dot(X[:,0], y - F(X, w, b))\n",
        "\n",
        "def dJdw2(X, y, w, b):\n",
        "    return -np.dot(X[:,1], y - F(X, w, b))\n",
        "\n",
        "def dJdb(X, y, w, b):\n",
        "    return -np.sum(y - F(X, w, b))"
      ],
      "metadata": {
        "id": "KyGwasRqztVP"
      },
      "execution_count": null,
      "outputs": []
    },
    {
      "cell_type": "markdown",
      "source": [
        "Aftet that, we use the following update rule, where we calculate the gradient and then adjust the parameters.\n",
        "\n",
        "$$\n",
        "w_1 = w_1 - \\alpha \\cdot \\frac{\\partial J}{\\partial w_i}\n",
        "$$\n",
        "\n",
        "$$\n",
        "w_2 = w_2 - \\alpha \\cdot \\frac{\\partial J}{\\partial w_2}\n",
        "$$\n",
        "\n",
        "$$\n",
        "b = b - \\alpha \\cdot \\frac{\\partial J}{\\partial b}\n",
        "$$"
      ],
      "metadata": {
        "id": "zgSwku_mzwXA"
      }
    },
    {
      "cell_type": "code",
      "source": [
        "# choose the learning rate parameter and number of iterations\n",
        "lr = 0.001\n",
        "n_iters = 2000\n",
        "\n",
        "# run through gradient descent\n",
        "errors = []\n",
        "for i in range(n_iters):\n",
        "    w[0] = w[0] - lr * dJdw1(X, y, w, b)\n",
        "    w[1] = w[1] - lr * dJdw2(X, y, w, b)\n",
        "    b = b - lr * dJdb(X, y, w, b)\n",
        "    y_pred = F(X, w, b)\n",
        "    j = cost_function(y_pred, y)\n",
        "    errors.append(j)"
      ],
      "metadata": {
        "id": "kF9Zjo7_zzJy"
      },
      "execution_count": null,
      "outputs": []
    },
    {
      "cell_type": "code",
      "source": [
        "# plot the error\n",
        "plt.plot(range(n_iters), errors, linewidth=2)\n",
        "plt.title(\"Cost by iteration\")\n",
        "plt.ylabel(\"Cost\")\n",
        "plt.xlabel(\"iterations\")"
      ],
      "metadata": {
        "colab": {
          "base_uri": "https://localhost:8080/",
          "height": 489
        },
        "id": "sz0wh0wpz02q",
        "outputId": "d4292490-8a3b-4496-b297-98ce9914b67b"
      },
      "execution_count": null,
      "outputs": [
        {
          "output_type": "execute_result",
          "data": {
            "text/plain": [
              "Text(0.5, 0, 'iterations')"
            ]
          },
          "metadata": {},
          "execution_count": 9
        },
        {
          "output_type": "display_data",
          "data": {
            "text/plain": [
              "<Figure size 640x480 with 1 Axes>"
            ],
            "image/png": "[encoded data removed]"
          },
          "metadata": {}
        }
      ]
    },
    {
      "cell_type": "markdown",
      "source": [
        "At the beginning of training, the loss is typically high as the model's weights are randomly initialized,the model struggles to make accurate predictions, resulting in a high training loss.\n",
        "\n",
        "As the training progresses, the loss generally decreases, the model adjusts its weights and biases to minimize the difference between its predictions and the actual target values"
      ],
      "metadata": {
        "id": "FpxK-U_Gz4OD"
      }
    },
    {
      "cell_type": "code",
      "source": [
        "def sigmoid(z):\n",
        "    return 1.0 / (1.0 + np.exp(-z))"
      ],
      "metadata": {
        "id": "TAgmxY7Cz3Xy"
      },
      "execution_count": null,
      "outputs": []
    },
    {
      "cell_type": "markdown",
      "source": [
        "The sigmoid function, also known as the logistic function, is a common activation function used in neural networks, especially in the earlier days of deep learning. The sigmoid function takes any real-valued number and \"squashes\" it to a range between 0 and 1. It has an S-shaped curve, and its formula is given by\n",
        "\n",
        "So instead of y = (w_1 * x_1) + (w_2 * x_2) + b our function now looks like:\n",
        "\n",
        "$$\n",
        "y = \\frac{1}{1 + e^{-(w_1 x_1 + w_2 x_2 + b)}}\n",
        "$$\n",
        "\n",
        "\n",
        "* x is the input to the function.\n",
        "* e is the base of the natural logarithm (approximately 2.71828)."
      ],
      "metadata": {
        "id": "3_ubOQDC1MuF"
      }
    },
    {
      "cell_type": "code",
      "source": [
        "def weighted_sum(x, w, b):\n",
        "    return b + np.dot(w, x)\n",
        "\n",
        "def sigmoid(z):\n",
        "    return 1 / (1 + np.exp(-z))\n",
        "\n",
        "# our parameters\n",
        "w = [0.2, 0.6]\n",
        "b = -0.3\n",
        "\n",
        "X, y = data, labels\n",
        "\n",
        "# get weighted sum like before\n",
        "Z = [weighted_sum(x, w, b) for x in X]\n",
        "\n",
        "# now transform the weighted sums with a sigmoid\n",
        "y_pred = [sigmoid(z) for z in Z]\n",
        "\n",
        "# evaluate error\n",
        "error = cost_function(y_pred, y)\n",
        "print(error)"
      ],
      "metadata": {
        "colab": {
          "base_uri": "https://localhost:8080/"
        },
        "id": "ZsLmVcs21rcF",
        "outputId": "c1241590-2c78-45c2-ca16-450d81c01f5e"
      },
      "execution_count": null,
      "outputs": [
        {
          "output_type": "stream",
          "name": "stdout",
          "text": [
            "829.3581552057615\n"
          ]
        }
      ]
    },
    {
      "cell_type": "markdown",
      "source": [
        "The function we posed above can already be considered a neural network. But let's complicate things a bit further, by adding a hidden layer. Neurons can be arranged in layers. So instead of having just two input neurons and an output neuron, let's place a layer of three neurons in the middle\n",
        "\n",
        "![](https://raw.githubusercontent.com/ml4a/ml4a/a8831f15b581f091d16003b0b61a68ed1bbbb770/assets/neuralnet.jpg)"
      ],
      "metadata": {
        "id": "QPCxzry01vMT"
      }
    },
    {
      "cell_type": "code",
      "source": [
        "W1 = np.random.randn(2, 3)\n",
        "W2 = np.random.randn(3, 1)\n",
        "\n",
        "print(\"W1=\", W1)\n",
        "print(\"W2=\", W2)"
      ],
      "metadata": {
        "colab": {
          "base_uri": "https://localhost:8080/"
        },
        "id": "viKfieja1x1b",
        "outputId": "01d07bd3-84f3-4b65-f3ad-7143a1271d43"
      },
      "execution_count": null,
      "outputs": [
        {
          "output_type": "stream",
          "name": "stdout",
          "text": [
            "W1= [[ 0.22901001 -0.11699964  0.89142655]\n",
            " [ 0.36283125 -0.75282909 -0.01617101]]\n",
            "W2= [[ 1.44862934]\n",
            " [ 1.20557275]\n",
            " [-0.9369297 ]]\n"
          ]
        }
      ]
    },
    {
      "cell_type": "markdown",
      "source": [
        "### implementing a forward pass"
      ],
      "metadata": {
        "id": "Zn68FjHG14uZ"
      }
    },
    {
      "cell_type": "code",
      "source": [
        "\n",
        "X, y = data, labels\n",
        "\n",
        "# first layer weighted sum z\n",
        "z = np.dot(X, W1)\n",
        "\n",
        "# project z through non-linear sigmoid\n",
        "z = sigmoid(z)\n",
        "\n",
        "# do another dot product at end (sigmoid is omitted)\n",
        "y_pred = np.dot(z, W2)\n",
        "\n",
        "# what is our cost\n",
        "error = cost_function(y_pred, y)\n",
        "\n",
        "print('predicted %0.2f for example 0, actual %0.2f, total cost %0.2f'%(pred_y[0], y[0], error))"
      ],
      "metadata": {
        "colab": {
          "base_uri": "https://localhost:8080/"
        },
        "id": "_0SIAb5a11KF",
        "outputId": "4f6f616e-f074-4471-eeeb-6d330a99e5a0"
      },
      "execution_count": null,
      "outputs": [
        {
          "output_type": "stream",
          "name": "stdout",
          "text": [
            "predicted 2.68 for example 0, actual 1.40, total cost 157079.16\n"
          ]
        }
      ]
    },
    {
      "cell_type": "code",
      "source": [
        "class Neural_Network(object):\n",
        "    def __init__(self, n0, n1, n2):\n",
        "        self.n0 = n0\n",
        "        self.n1 = n1\n",
        "        self.n2 = n2\n",
        "\n",
        "        # initialize weights\n",
        "        self.W1 = np.random.randn(self.n0, self.n1)\n",
        "        self.W2 = np.random.randn(self.n1 ,self.n2)\n",
        "\n",
        "    def predict(self, x):\n",
        "        z = np.dot(x, self.W1)\n",
        "        z = sigmoid(z)\n",
        "        y = np.dot(z, self.W2)\n",
        "        return y"
      ],
      "metadata": {
        "id": "wbM9eWYc19hV"
      },
      "execution_count": null,
      "outputs": []
    },
    {
      "cell_type": "code",
      "source": [
        "# instantiate a neural network with 2 input neurons, 3 hidden neurons, and 1 output neuron using above class\n",
        "\n",
        "net = Neural_Network(2, 3, 1)"
      ],
      "metadata": {
        "id": "mk2Nj8VR2Atf"
      },
      "execution_count": null,
      "outputs": []
    },
    {
      "cell_type": "markdown",
      "source": [
        "Now to do a forward pass, can simply run the networks predict function:"
      ],
      "metadata": {
        "id": "8UHpyMaD2FHU"
      }
    },
    {
      "cell_type": "code",
      "source": [
        "X, y = data, labels\n",
        "y_pred = net.predict(X)\n",
        "error = cost_function(y_pred, y)\n",
        "\n",
        "print('predicted %0.2f for example 0, actual %0.2f, total cost %0.2f'%(pred_y[0], y[0], error))"
      ],
      "metadata": {
        "colab": {
          "base_uri": "https://localhost:8080/"
        },
        "id": "KwoMCMmK2C3v",
        "outputId": "76217b34-b08a-47d5-9116-524a3a9766bf"
      },
      "execution_count": null,
      "outputs": [
        {
          "output_type": "stream",
          "name": "stdout",
          "text": [
            "predicted 2.68 for example 0, actual 1.40, total cost 99621.46\n"
          ]
        }
      ]
    },
    {
      "cell_type": "markdown",
      "source": [
        " we have a 2x3x1 neural network with 9 weights and 4 biases for 13 total parameters.\n",
        "\n",
        " Now we optimize the parameters to minimize our cost function using Gradient Descent.\n",
        "\n",
        "Gradient Descent will find the gradient of the cost/loss function(J)\n",
        " with respect to the parameters w,b.\n",
        "\n",
        " $$\n",
        " w_i := w_i - \\alpha \\cdot \\frac{\\partial J}{\\partial w_i}\n",
        " $$"
      ],
      "metadata": {
        "id": "O4RaivnL2LKg"
      }
    },
    {
      "cell_type": "code",
      "source": [
        "def get_gradient(net, X, y):\n",
        "    w_delta = 1e-8\n",
        "\n",
        "    # get the current value of the loss, wherever the parameters are\n",
        "    y_pred_current = net.predict(X)\n",
        "    error_current = cost_function(y_pred_current, y)\n",
        "\n",
        "    # grab the current weights and copy them (so we can restore them after modification)\n",
        "    dw1, dw2 = np.zeros((net.n0, net.n1)), np.zeros((net.n1, net.n2))\n",
        "    W1, W2 = np.copy(net.W1), np.copy(net.W2)\n",
        "\n",
        "    # Calculate gradient for the first layer\n",
        "    for i in range(net.n0):\n",
        "        for j in range(net.n1):\n",
        "            net.W1 = np.copy(W1)\n",
        "            net.W1[i][j] += w_delta\n",
        "            y_pred = net.predict(X)\n",
        "            error = cost_function(y_pred, y)\n",
        "            dw1[i][j] = (error - error_current) / w_delta\n",
        "\n",
        "    # Calculate gradient for the second layer\n",
        "    for i in range(net.n1):\n",
        "        for j in range(net.n2):\n",
        "            net.W2 = np.copy(W2)\n",
        "            net.W2[i][j] += w_delta\n",
        "            y_pred = net.predict(X)\n",
        "            error = cost_function(y_pred, y)\n",
        "            dw2[i][j] = (error - error_current) / w_delta\n",
        "\n",
        "    # restore the original weights\n",
        "    net.W1, net.W2 = np.copy(W1), np.copy(W2)\n",
        "\n",
        "    return dw1, dw2"
      ],
      "metadata": {
        "id": "OyjMSuYD2OO3"
      },
      "execution_count": null,
      "outputs": []
    },
    {
      "cell_type": "markdown",
      "source": [
        "The above function 'get_gradient' calculates the gradient of a 2-layer network net, for our dataset X, y"
      ],
      "metadata": {
        "id": "746ew78s2Uv5"
      }
    },
    {
      "cell_type": "markdown",
      "source": [
        "Now train the network by the following steps:\n",
        "\n",
        "1. Load our dataset\n",
        "2. Instantiate a neural network\n",
        "3. Train it on the data using the gradient method made above."
      ],
      "metadata": {
        "id": "0mg9kt0m2YLc"
      }
    },
    {
      "cell_type": "code",
      "source": [
        "# load the data and labels\n",
        "X, y = data, labels.reshape((len(labels),1))\n",
        "\n",
        "# it's always a good idea to normalize the data between 0 and 1\n",
        "X = X/np.amax(X, axis=0)\n",
        "y = y/np.amax(y, axis=0)\n",
        "\n",
        "# create a 2x3x1 neural net\n",
        "net = Neural_Network(2, 3, 1)\n",
        "\n",
        "# what is the current cost?\n",
        "y_orig = net.predict(X)\n",
        "init_cost = cost_function(y_orig, y)\n",
        "print(\"initial cost = %0.3f\" % init_cost)\n",
        "\n",
        "# Set the learning rate, and how many epochs (updates) to try\n",
        "n_epochs = 2000\n",
        "learning_rate = 0.01\n",
        "\n",
        "# for each epoch, calculate the gradient, then subtract it from the parameters, and save the cost\n",
        "errors = []\n",
        "for i in range(n_epochs):\n",
        "    dw1, dw2 = get_gradient(net, X, y)\n",
        "    net.W1 = net.W1 - learning_rate * dw1\n",
        "    net.W2 = net.W2 - learning_rate * dw2\n",
        "    y_pred = net.predict(X)\n",
        "    error = cost_function(y_pred, y)\n",
        "    errors.append(error)\n"
      ],
      "metadata": {
        "colab": {
          "base_uri": "https://localhost:8080/"
        },
        "id": "JT_pYwUd2kqD",
        "outputId": "1c0a48fb-830c-4be0-d6c7-1c4a0175b627"
      },
      "execution_count": null,
      "outputs": [
        {
          "output_type": "stream",
          "name": "stdout",
          "text": [
            "initial cost = 8.289\n"
          ]
        }
      ]
    },
    {
      "cell_type": "code",
      "source": [
        "# plotting iterations vs error\n",
        "plt.plot(range(0, len(errors)), errors)\n",
        "plt.xlabel('Iterations')\n",
        "plt.ylabel('Error')"
      ],
      "metadata": {
        "colab": {
          "base_uri": "https://localhost:8080/",
          "height": 466
        },
        "id": "eUXEXB0p2e2C",
        "outputId": "35fd5490-a46d-424e-eca1-d0b416a6fc89"
      },
      "execution_count": null,
      "outputs": [
        {
          "output_type": "execute_result",
          "data": {
            "text/plain": [
              "Text(0, 0.5, 'Error')"
            ]
          },
          "metadata": {},
          "execution_count": 47
        },
        {
          "output_type": "display_data",
          "data": {
            "text/plain": [
              "<Figure size 640x480 with 1 Axes>"
            ],
            "image/png": "[encoded data removed]"
          },
          "metadata": {}
        }
      ]
    }
  ]
}